{
  "nbformat": 4,
  "nbformat_minor": 0,
  "metadata": {
    "colab": {
      "provenance": [],
      "authorship_tag": "ABX9TyPlFJH7pPtnBWLN3fvRhuGI",
      "include_colab_link": true
    },
    "kernelspec": {
      "name": "python3",
      "display_name": "Python 3"
    },
    "language_info": {
      "name": "python"
    }
  },
  "cells": [
    {
      "cell_type": "markdown",
      "metadata": {
        "id": "view-in-github",
        "colab_type": "text"
      },
      "source": [
        "<a href=\"https://colab.research.google.com/github/mythilyram/Python/blob/main/FoodDeliveryAppData.ipynb\" target=\"_parent\"><img src=\"https://colab.research.google.com/assets/colab-badge.svg\" alt=\"Open In Colab\"/></a>"
      ]
    },
    {
      "cell_type": "code",
      "execution_count": 25,
      "metadata": {
        "colab": {
          "base_uri": "https://localhost:8080/"
        },
        "id": "0WFUBfvHqYFI",
        "outputId": "5d6b34a1-c362-4d5a-b0a1-4831f430a6d8"
      },
      "outputs": [
        {
          "output_type": "execute_result",
          "data": {
            "text/plain": [
              "(56252, 11)"
            ]
          },
          "metadata": {},
          "execution_count": 25
        }
      ],
      "source": [
        "import pandas as pd\n",
        "hotels= pd.read_csv(\"zomato.csv\")\n",
        "hotels.drop(columns =['address','phone'],inplace=True)\n",
        "\n",
        "\n",
        "hotels.shape"
      ]
    },
    {
      "cell_type": "code",
      "source": [
        "hotels.rename(columns={'rate': 'rating','approx_cost(for two people)':'approx_cost', 'listed_in(type)':'type'},inplace=True)\n",
        "\n",
        "hotels.info()"
      ],
      "metadata": {
        "colab": {
          "base_uri": "https://localhost:8080/"
        },
        "id": "DCCraCPivR17",
        "outputId": "e6618de6-12f9-4d7d-fd5e-859dd892ac12"
      },
      "execution_count": 28,
      "outputs": [
        {
          "output_type": "stream",
          "name": "stdout",
          "text": [
            "<class 'pandas.core.frame.DataFrame'>\n",
            "RangeIndex: 56252 entries, 0 to 56251\n",
            "Data columns (total 11 columns):\n",
            " #   Column        Non-Null Count  Dtype \n",
            "---  ------        --------------  ----- \n",
            " 0   name          56236 non-null  object\n",
            " 1   online_order  56233 non-null  object\n",
            " 2   book_table    56194 non-null  object\n",
            " 3   rating        48414 non-null  object\n",
            " 4   votes         56174 non-null  object\n",
            " 5   location      56126 non-null  object\n",
            " 6   rest_type     55914 non-null  object\n",
            " 7   dish_liked    28027 non-null  object\n",
            " 8   cuisines      56049 non-null  object\n",
            " 9   approx_cost   55731 non-null  object\n",
            " 10  type          51642 non-null  object\n",
            "dtypes: object(11)\n",
            "memory usage: 4.7+ MB\n"
          ]
        }
      ]
    },
    {
      "cell_type": "code",
      "source": [
        " hotels.dropna(subset=['name',\"online\"],axis = 0,inplace=True)\n",
        " hotels.info()"
      ],
      "metadata": {
        "colab": {
          "base_uri": "https://localhost:8080/"
        },
        "id": "9h6N481AwuRO",
        "outputId": "1aaace97-0b15-4aef-f270-e50ae6ab1b10"
      },
      "execution_count": 30,
      "outputs": [
        {
          "output_type": "stream",
          "name": "stdout",
          "text": [
            "<class 'pandas.core.frame.DataFrame'>\n",
            "Int64Index: 56236 entries, 0 to 56251\n",
            "Data columns (total 11 columns):\n",
            " #   Column        Non-Null Count  Dtype \n",
            "---  ------        --------------  ----- \n",
            " 0   name          56236 non-null  object\n",
            " 1   online_order  56233 non-null  object\n",
            " 2   book_table    56194 non-null  object\n",
            " 3   rating        48414 non-null  object\n",
            " 4   votes         56174 non-null  object\n",
            " 5   location      56126 non-null  object\n",
            " 6   rest_type     55914 non-null  object\n",
            " 7   dish_liked    28027 non-null  object\n",
            " 8   cuisines      56049 non-null  object\n",
            " 9   approx_cost   55731 non-null  object\n",
            " 10  type          51642 non-null  object\n",
            "dtypes: object(11)\n",
            "memory usage: 5.1+ MB\n"
          ]
        }
      ]
    }
  ]
}